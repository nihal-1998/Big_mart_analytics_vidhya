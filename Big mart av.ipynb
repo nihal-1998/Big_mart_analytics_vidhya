{
 "cells": [
  {
   "cell_type": "code",
   "execution_count": 1,
   "metadata": {
    "collapsed": true
   },
   "outputs": [],
   "source": [
    "import pandas as pd\n",
    "import numpy as np\n",
    "import matplotlib.pyplot as plt\n",
    "%matplotlib inline"
   ]
  },
  {
   "cell_type": "code",
   "execution_count": 2,
   "metadata": {
    "collapsed": false
   },
   "outputs": [
    {
     "data": {
      "text/plain": [
       "Fruits and Vegetables    1232\n",
       "Snack Foods              1200\n",
       "Household                 910\n",
       "Frozen Foods              856\n",
       "Dairy                     682\n",
       "Canned                    649\n",
       "Baking Goods              648\n",
       "Health and Hygiene        520\n",
       "Soft Drinks               445\n",
       "Meat                      425\n",
       "Breads                    251\n",
       "Hard Drinks               214\n",
       "Others                    169\n",
       "Starchy Foods             148\n",
       "Breakfast                 110\n",
       "Seafood                    64\n",
       "Name: Item_Type, dtype: int64"
      ]
     },
     "execution_count": 2,
     "metadata": {},
     "output_type": "execute_result"
    }
   ],
   "source": [
    "train_big = pd.read_csv('Train_bigmart.csv')\n",
    "#train_big\n",
    "\n",
    "train_big['Item_Type'].value_counts()"
   ]
  },
  {
   "cell_type": "code",
   "execution_count": 3,
   "metadata": {
    "collapsed": false
   },
   "outputs": [
    {
     "data": {
      "text/html": [
       "<div>\n",
       "<style scoped>\n",
       "    .dataframe tbody tr th:only-of-type {\n",
       "        vertical-align: middle;\n",
       "    }\n",
       "\n",
       "    .dataframe tbody tr th {\n",
       "        vertical-align: top;\n",
       "    }\n",
       "\n",
       "    .dataframe thead th {\n",
       "        text-align: right;\n",
       "    }\n",
       "</style>\n",
       "<table border=\"1\" class=\"dataframe\">\n",
       "  <thead>\n",
       "    <tr style=\"text-align: right;\">\n",
       "      <th></th>\n",
       "      <th>Item_Identifier</th>\n",
       "      <th>Item_Weight</th>\n",
       "      <th>Item_Fat_Content</th>\n",
       "      <th>Item_Visibility</th>\n",
       "      <th>Item_Type</th>\n",
       "      <th>Item_MRP</th>\n",
       "      <th>Outlet_Identifier</th>\n",
       "      <th>Outlet_Establishment_Year</th>\n",
       "      <th>Outlet_Size</th>\n",
       "      <th>Outlet_Location_Type</th>\n",
       "      <th>Outlet_Type</th>\n",
       "    </tr>\n",
       "  </thead>\n",
       "  <tbody>\n",
       "    <tr>\n",
       "      <th>0</th>\n",
       "      <td>FDW58</td>\n",
       "      <td>20.750</td>\n",
       "      <td>Low Fat</td>\n",
       "      <td>0.007565</td>\n",
       "      <td>Snack Foods</td>\n",
       "      <td>107.8622</td>\n",
       "      <td>OUT049</td>\n",
       "      <td>1999</td>\n",
       "      <td>Medium</td>\n",
       "      <td>Tier 1</td>\n",
       "      <td>Supermarket Type1</td>\n",
       "    </tr>\n",
       "    <tr>\n",
       "      <th>1</th>\n",
       "      <td>FDW14</td>\n",
       "      <td>8.300</td>\n",
       "      <td>reg</td>\n",
       "      <td>0.038428</td>\n",
       "      <td>Dairy</td>\n",
       "      <td>87.3198</td>\n",
       "      <td>OUT017</td>\n",
       "      <td>2007</td>\n",
       "      <td>NaN</td>\n",
       "      <td>Tier 2</td>\n",
       "      <td>Supermarket Type1</td>\n",
       "    </tr>\n",
       "    <tr>\n",
       "      <th>2</th>\n",
       "      <td>NCN55</td>\n",
       "      <td>14.600</td>\n",
       "      <td>Low Fat</td>\n",
       "      <td>0.099575</td>\n",
       "      <td>Others</td>\n",
       "      <td>241.7538</td>\n",
       "      <td>OUT010</td>\n",
       "      <td>1998</td>\n",
       "      <td>NaN</td>\n",
       "      <td>Tier 3</td>\n",
       "      <td>Grocery Store</td>\n",
       "    </tr>\n",
       "    <tr>\n",
       "      <th>3</th>\n",
       "      <td>FDQ58</td>\n",
       "      <td>7.315</td>\n",
       "      <td>Low Fat</td>\n",
       "      <td>0.015388</td>\n",
       "      <td>Snack Foods</td>\n",
       "      <td>155.0340</td>\n",
       "      <td>OUT017</td>\n",
       "      <td>2007</td>\n",
       "      <td>NaN</td>\n",
       "      <td>Tier 2</td>\n",
       "      <td>Supermarket Type1</td>\n",
       "    </tr>\n",
       "    <tr>\n",
       "      <th>4</th>\n",
       "      <td>FDY38</td>\n",
       "      <td>NaN</td>\n",
       "      <td>Regular</td>\n",
       "      <td>0.118599</td>\n",
       "      <td>Dairy</td>\n",
       "      <td>234.2300</td>\n",
       "      <td>OUT027</td>\n",
       "      <td>1985</td>\n",
       "      <td>Medium</td>\n",
       "      <td>Tier 3</td>\n",
       "      <td>Supermarket Type3</td>\n",
       "    </tr>\n",
       "  </tbody>\n",
       "</table>\n",
       "</div>"
      ],
      "text/plain": [
       "  Item_Identifier  Item_Weight Item_Fat_Content  Item_Visibility    Item_Type  \\\n",
       "0           FDW58       20.750          Low Fat         0.007565  Snack Foods   \n",
       "1           FDW14        8.300              reg         0.038428        Dairy   \n",
       "2           NCN55       14.600          Low Fat         0.099575       Others   \n",
       "3           FDQ58        7.315          Low Fat         0.015388  Snack Foods   \n",
       "4           FDY38          NaN          Regular         0.118599        Dairy   \n",
       "\n",
       "   Item_MRP Outlet_Identifier  Outlet_Establishment_Year Outlet_Size  \\\n",
       "0  107.8622            OUT049                       1999      Medium   \n",
       "1   87.3198            OUT017                       2007         NaN   \n",
       "2  241.7538            OUT010                       1998         NaN   \n",
       "3  155.0340            OUT017                       2007         NaN   \n",
       "4  234.2300            OUT027                       1985      Medium   \n",
       "\n",
       "  Outlet_Location_Type        Outlet_Type  \n",
       "0               Tier 1  Supermarket Type1  \n",
       "1               Tier 2  Supermarket Type1  \n",
       "2               Tier 3      Grocery Store  \n",
       "3               Tier 2  Supermarket Type1  \n",
       "4               Tier 3  Supermarket Type3  "
      ]
     },
     "execution_count": 3,
     "metadata": {},
     "output_type": "execute_result"
    }
   ],
   "source": [
    "test_big = pd.read_csv('Test_bigmart.csv')\n",
    "test_big.head()\n",
    "#train_big\n",
    "#fig = plt.figure(figsize=(20,5) )\n",
    "#ax0 = fig.add_subplot(2, 2, 1)\n",
    "#ax1 = fig.add_subplot(2, 2, 2)\n",
    "#ax2 = fig.add_subplot(2, 2, 1)\n",
    "#train_big['Item_Outlet_Sales'].plot(kind='box',ax=ax0)\n",
    "#train_big['Item_MRP'].plot(kind='box',ax=ax1)\n",
    "#plt.scatter(train_big['Item_MRP'],train_big['Item_Outlet_Sales'])"
   ]
  },
  {
   "cell_type": "code",
   "execution_count": 4,
   "metadata": {
    "collapsed": false
   },
   "outputs": [],
   "source": [
    "#train_big['Item_Weight'].plot(kind = 'box' )\n",
    "train_big['Item_Weight'].fillna(train_big['Item_Weight'].mean(), inplace = True)\n",
    "#train_big['Item_Weight'].plot(kind = 'bar',figsize = (20,20 ))\n",
    "\n",
    "test_big['Item_Weight'].fillna(train_big['Item_Weight'].mean(), inplace = True)\n",
    "#train_big['Item_Weight'].describe()"
   ]
  },
  {
   "cell_type": "code",
   "execution_count": 5,
   "metadata": {
    "collapsed": false
   },
   "outputs": [],
   "source": [
    "ifc = {'Low Fat':'Low Fat' ,'Regular':'Regular' ,'reg':'Regular','low fat':'Low Fat','LF':'Low Fat'}"
   ]
  },
  {
   "cell_type": "code",
   "execution_count": 6,
   "metadata": {
    "collapsed": false
   },
   "outputs": [
    {
     "data": {
      "text/plain": [
       "Low Fat    3668\n",
       "Regular    2013\n",
       "Name: Item_Fat_Content, dtype: int64"
      ]
     },
     "execution_count": 6,
     "metadata": {},
     "output_type": "execute_result"
    }
   ],
   "source": [
    "train_big['Item_Fat_Content'] = [ifc[item] for item in train_big['Item_Fat_Content']]\n",
    "train_big['Item_Fat_Content'].value_counts()\n",
    "\n",
    "test_big['Item_Fat_Content'] = [ifc[item] for item in test_big['Item_Fat_Content']]\n",
    "test_big['Item_Fat_Content'].value_counts()"
   ]
  },
  {
   "cell_type": "code",
   "execution_count": 7,
   "metadata": {
    "collapsed": false
   },
   "outputs": [],
   "source": [
    "from sklearn.preprocessing import OneHotEncoder,LabelEncoder\n",
    "#le = LabelEncoder()\n",
    "#train_big['Item_Fat_Content'] = le.fit_transform(train_big['Item_Fat_Content'])\n",
    "#oe = OneHotEncoder\n",
    "\n",
    "train_big['Item_Fat_Content'] = train_big.groupby('Item_Fat_Content')['Item_Outlet_Sales'].transform('mean')\n",
    "#test_big['Item_Fat_Content'] = test_big.groupby('Item_Fat_Content')['Item_Outlet_Sales'].transform('mean')\n",
    "# enco = train_big.groupby('Item_Fat_Content').size()\n",
    "# print(enco)\n",
    "# enco = enco/len(train_big)\n",
    "# train_big['Item_Fat_Content'] = train_big['Item_Fat_Content'].map(enco)\n",
    "\n",
    "#train_big['Item_Fat_Content'].value_counts()\n",
    "#fat = pd.get_dummies(train_big['Item_Fat_Content'])\n",
    "# train_big['Item_Fat_Content'].unique()\n",
    "\n",
    "ifc = {'Low Fat':2157.711534 ,'Regular':2224.561170}\n",
    "test_big['Item_Fat_Content'] = [ifc[item] for item in test_big['Item_Fat_Content']]\n",
    "#test_big['Item_Fat_Content']"
   ]
  },
  {
   "cell_type": "code",
   "execution_count": 8,
   "metadata": {
    "collapsed": false
   },
   "outputs": [
    {
     "data": {
      "text/plain": [
       "<matplotlib.axes._subplots.AxesSubplot at 0x249674ff2e8>"
      ]
     },
     "execution_count": 8,
     "metadata": {},
     "output_type": "execute_result"
    },
    {
     "data": {
      "image/png": "[encoded data removed]",
      "text/plain": [
       "<matplotlib.figure.Figure at 0x249674e09e8>"
      ]
     },
     "metadata": {},
     "output_type": "display_data"
    }
   ],
   "source": [
    "train_big['Item_Visibility'].plot(kind = 'hist')"
   ]
  },
  {
   "cell_type": "code",
   "execution_count": 9,
   "metadata": {
    "collapsed": false
   },
   "outputs": [],
   "source": [
    "train_big['Item_Visibility'] =train_big['Item_Visibility'].replace(0,train_big['Item_Visibility'].mean())\n",
    "test_big['Item_Visibility'] = test_big['Item_Visibility'].replace(0,test_big['Item_Visibility'].mean())\n",
    "# u,l = np.percentile(train_big['Item_Visibility'],[1,99])\n",
    "# y = np.clip(train_big['Item_Visibility'],u,l)\n",
    "# pd.Series(y).plot(kind = 'box')\n",
    "# item_visi = pd.DataFrame(y,columns=['Item_Visibility'])\n",
    "# #item_visi\n",
    "# train_big['Item_Visibility'] = item_visi\n",
    "# #train_big['Item_Visibility'].plot(kind='box')\n",
    "\n",
    "# u,l = np.percentile(train_big['Item_Visibility'],[1,99])\n",
    "# y = np.clip(test_big['Item_Visibility'],u,l)\n",
    "# pd.Series(y).plot(kind = 'box')\n",
    "# item_visi = pd.DataFrame(y,columns=['Item_Visibility'])\n",
    "# test_big['Item_Visibility'] = item_visi\n"
   ]
  },
  {
   "cell_type": "code",
   "execution_count": 10,
   "metadata": {
    "collapsed": false
   },
   "outputs": [
    {
     "data": {
      "text/plain": [
       "2289.009592    1232\n",
       "2277.321739    1200\n",
       "2258.784300     910\n",
       "2132.867744     856\n",
       "2232.542597     682\n",
       "2225.194904     649\n",
       "1952.971207     648\n",
       "2010.000265     520\n",
       "2006.511735     445\n",
       "2158.977911     425\n",
       "2204.132226     251\n",
       "2139.221622     214\n",
       "1926.139702     169\n",
       "2374.332773     148\n",
       "2111.808651     110\n",
       "2326.065928      64\n",
       "Name: Item_Type, dtype: int64"
      ]
     },
     "execution_count": 10,
     "metadata": {},
     "output_type": "execute_result"
    }
   ],
   "source": [
    "# train_big['Item_Type'].value_counts()\n",
    "# enco = train_big.groupby('Item_Type').size()\n",
    "# #print(enco)\n",
    "# enco = enco/len(train_big)\n",
    "# train_big['Item_Type'] = train_big['Item_Type'].map(enco)\n",
    "# train_big['Item_Type'].unique()\n",
    "train_big['Item_Type'] = train_big.groupby('Item_Type')['Item_Outlet_Sales'].transform('mean')\n",
    "#test_big['Item_Type'] = test_big.groupby('Item_Type')['Item_Outlet_Sales'].transform('mean')\n",
    "train_big['Item_Type'].value_counts()"
   ]
  },
  {
   "cell_type": "code",
   "execution_count": 11,
   "metadata": {
    "collapsed": false
   },
   "outputs": [],
   "source": [
    "ifc = {'Baking Goods':1952.971207,'Breads':2204.132226 ,'Breakfast':2111.808651,'Canned':2225.194904,'Dairy':2232.542597,'Frozen Foods':2132.867744,'Fruits and Vegetables':2289.009592,'Hard Drinks':2139.221622,'Health and Hygiene':2010.000265,'Household':2258.784300,'Meat':2158.977911,'Others': 1926.139702,'Seafood':2326.065928,'Snack Foods':2277.321739,'Soft Drinks':2006.511735,'Starchy Foods':2374.332773}\n",
    "test_big['Item_Type'] = [ifc[item] for item in test_big['Item_Type']]\n",
    "#test_big['Item_Fat_Content']\n",
    "#test_big['Item_Type']"
   ]
  },
  {
   "cell_type": "code",
   "execution_count": 12,
   "metadata": {
    "collapsed": false
   },
   "outputs": [],
   "source": [
    "#train_big['Item_MRP']"
   ]
  },
  {
   "cell_type": "code",
   "execution_count": null,
   "metadata": {
    "collapsed": false
   },
   "outputs": [],
   "source": []
  },
  {
   "cell_type": "code",
   "execution_count": 13,
   "metadata": {
    "collapsed": false
   },
   "outputs": [
    {
     "name": "stdout",
     "output_type": "stream",
     "text": [
      "Outlet_Identifier\n",
      "OUT010    555\n",
      "OUT013    932\n",
      "OUT017    926\n",
      "OUT018    928\n",
      "OUT019    528\n",
      "OUT027    935\n",
      "OUT035    930\n",
      "OUT045    929\n",
      "OUT046    930\n",
      "OUT049    930\n",
      "dtype: int64\n"
     ]
    }
   ],
   "source": [
    "train_big['Outlet_Identifier'].value_counts()\n",
    "enco = train_big.groupby('Outlet_Identifier').size()\n",
    "print(enco)\n",
    "enco = enco/len(train_big)\n",
    "train_big['Outlet_Identifier'] = train_big['Outlet_Identifier'].map(enco)\n",
    "train_big['Outlet_Identifier'].unique()\n",
    "\n",
    "ifc = {'OUT010':0.06511792 ,'OUT013':0.10935117 ,'OUT017': 0.10864719,'OUT018':0.10888185,'OUT019':0.06195002,'OUT027':0.10970316,'OUT035':0.10911651,'OUT045':0.10899918,'OUT046':0.10911651,'OUT049':0.10911651}\n",
    "test_big['Outlet_Identifier'] = [ifc[item] for item in test_big['Outlet_Identifier']]\n",
    "#test_big['Outlet_Identifier']"
   ]
  },
  {
   "cell_type": "code",
   "execution_count": 14,
   "metadata": {
    "collapsed": false
   },
   "outputs": [
    {
     "name": "stdout",
     "output_type": "stream",
     "text": [
      "Outlet_Establishment_Year\n",
      "1985    1463\n",
      "1987     932\n",
      "1997     930\n",
      "1998     555\n",
      "1999     930\n",
      "2002     929\n",
      "2004     930\n",
      "2007     926\n",
      "2009     928\n",
      "dtype: int64\n"
     ]
    }
   ],
   "source": [
    "train_big['Outlet_Establishment_Year'].value_counts()\n",
    "enco = train_big.groupby('Outlet_Establishment_Year').size()\n",
    "print(enco)\n",
    "enco = enco/len(train_big)\n",
    "train_big['Outlet_Establishment_Year'] = train_big['Outlet_Establishment_Year'].map(enco)\n",
    "train_big['Outlet_Establishment_Year'].unique()\n",
    "\n",
    "test_big['Outlet_Establishment_Year'] = test_big['Outlet_Establishment_Year'].apply(str)\n",
    "ifc = {'1985':0.17165317 ,'1987':0.10935117 ,'1997': 0.10911651,'1998':0.06511792,'1999':0.10911651,'2002':0.10899918,'2004':0.10911651,'2007':0.10864719,'2009':0.10899918}\n",
    "test_big['Outlet_Establishment_Year'] = [ifc[item] for item in test_big['Outlet_Establishment_Year']]\n",
    "#test_big['Outlet_Establishment_Year']"
   ]
  },
  {
   "cell_type": "code",
   "execution_count": 15,
   "metadata": {
    "collapsed": false
   },
   "outputs": [],
   "source": [
    "train_big['Outlet_Size'] = train_big['Outlet_Size'].fillna('Medium')\n",
    "# train_big['Outlet_Size'] = train_big.groupby('Outlet_Size')['Item_Outlet_Sales'].transform('mean')\n",
    "# train_big['Outlet_Size'].value_counts()\n",
    "\n",
    "# # train_big['Outlet_Size'].value_counts()\n",
    "# # enco = train_big.groupby('Outlet_Size').size()\n",
    "# # print(enco)\n",
    "# # enco = enco/len(train_big)\n",
    "# # train_big['Outlet_Size'] = train_big['Outlet_Size'].map(enco)\n",
    "# # train_big['Outlet_Size'].unique()\n",
    "\n",
    "test_big['Outlet_Size'] = test_big['Outlet_Size'].fillna('Medium')\n",
    "# ifc = {'High':2298.995256,'Medium':2283.730470 ,'Small': 1912.149161}\n",
    "# test_big['Outlet_Size'] = [ifc[item] for item in test_big['Outlet_Size']]\n",
    "oz = pd.get_dummies(train_big['Outlet_Size'],columns=['Small','Medium','High'])\n",
    "ozt = pd.get_dummies(test_big['Outlet_Size'],columns=['Small','Medium','High'])\n",
    "# test_big['Outlet_Size']"
   ]
  },
  {
   "cell_type": "code",
   "execution_count": 16,
   "metadata": {
    "collapsed": false
   },
   "outputs": [],
   "source": [
    "# train_big['Outlet_Location_Type'] = train_big.groupby('Outlet_Location_Type')['Item_Outlet_Sales'].transform('mean')\n",
    "# train_big['Outlet_Location_Type'].value_counts()\n",
    "# # train_big['Outlet_Location_Type'].value_counts()\n",
    "# # train_big['Outlet_Location_Type'].value_counts()\n",
    "# # enco = train_big.groupby('Outlet_Location_Type').size()\n",
    "# # print(enco)\n",
    "# # enco = enco/len(train_big)\n",
    "# # train_big['Outlet_Location_Type'] = train_big['Outlet_Location_Type'].map(enco)\n",
    "# # train_big['Outlet_Location_Type'].unique()\n",
    "\n",
    "# ifc = {'Tier 1':1876.909159 ,'Tier 2':2323.990559 ,'Tier 3': 2279.627651}\n",
    "# test_big['Outlet_Location_Type'] = [ifc[item] for item in test_big['Outlet_Location_Type']]\n",
    "# test_big['Outlet_Location_Type']\n",
    "olt = pd.get_dummies(train_big['Outlet_Location_Type'])\n",
    "oltt = pd.get_dummies(test_big['Outlet_Location_Type'])\n"
   ]
  },
  {
   "cell_type": "code",
   "execution_count": 17,
   "metadata": {
    "collapsed": false
   },
   "outputs": [],
   "source": [
    "# train_big['Outlet_Type'] = train_big.groupby('Outlet_Type')['Item_Outlet_Sales'].transform('mean')\n",
    "# train_big['Outlet_Type'].value_counts()\n",
    "\n",
    "# # train_big['Outlet_Type'].value_counts()\n",
    "# # train_big['Outlet_Type'].value_counts()\n",
    "# # enco = train_big.groupby('Outlet_Type').size()\n",
    "# # print(enco)\n",
    "# # enco = enco/len(train_big)\n",
    "# # train_big['Outlet_Type'] = train_big['Outlet_Type'].map(enco)\n",
    "# # train_big['Outlet_Type'].unique()\n",
    "\n",
    "# ifc = {'Grocery Store':2316.181148 ,'Supermarket Type1':339.828500 ,'Supermarket Type2': 3694.038558 ,'Supermarket Type3':1995.498739}\n",
    "# test_big['Outlet_Type'] = [ifc[item] for item in test_big['Outlet_Type']]\n",
    "# test_big['Outlet_Type']\n",
    "ot = pd.get_dummies(train_big['Outlet_Type'])\n",
    "ott = pd.get_dummies(test_big['Outlet_Type'])"
   ]
  },
  {
   "cell_type": "code",
   "execution_count": 18,
   "metadata": {
    "collapsed": true
   },
   "outputs": [],
   "source": [
    "train_big = pd.merge(train_big,oz,left_index=True ,right_index=True)\n",
    "test_big = pd.merge(test_big,ozt,left_index=True ,right_index=True)"
   ]
  },
  {
   "cell_type": "code",
   "execution_count": 19,
   "metadata": {
    "collapsed": true
   },
   "outputs": [],
   "source": [
    "train_big = pd.merge(train_big,ot,left_index=True ,right_index=True)\n",
    "test_big = pd.merge(test_big,ott,left_index=True ,right_index=True)"
   ]
  },
  {
   "cell_type": "code",
   "execution_count": 20,
   "metadata": {
    "collapsed": false
   },
   "outputs": [
    {
     "data": {
      "text/html": [
       "<div>\n",
       "<style scoped>\n",
       "    .dataframe tbody tr th:only-of-type {\n",
       "        vertical-align: middle;\n",
       "    }\n",
       "\n",
       "    .dataframe tbody tr th {\n",
       "        vertical-align: top;\n",
       "    }\n",
       "\n",
       "    .dataframe thead th {\n",
       "        text-align: right;\n",
       "    }\n",
       "</style>\n",
       "<table border=\"1\" class=\"dataframe\">\n",
       "  <thead>\n",
       "    <tr style=\"text-align: right;\">\n",
       "      <th></th>\n",
       "      <th>Item_Identifier</th>\n",
       "      <th>Item_Weight</th>\n",
       "      <th>Item_Fat_Content</th>\n",
       "      <th>Item_Visibility</th>\n",
       "      <th>Item_Type</th>\n",
       "      <th>Item_MRP</th>\n",
       "      <th>Outlet_Identifier</th>\n",
       "      <th>Outlet_Establishment_Year</th>\n",
       "      <th>Outlet_Size</th>\n",
       "      <th>Outlet_Location_Type</th>\n",
       "      <th>...</th>\n",
       "      <th>High</th>\n",
       "      <th>Medium</th>\n",
       "      <th>Small</th>\n",
       "      <th>Grocery Store</th>\n",
       "      <th>Supermarket Type1</th>\n",
       "      <th>Supermarket Type2</th>\n",
       "      <th>Supermarket Type3</th>\n",
       "      <th>Tier 1</th>\n",
       "      <th>Tier 2</th>\n",
       "      <th>Tier 3</th>\n",
       "    </tr>\n",
       "  </thead>\n",
       "  <tbody>\n",
       "    <tr>\n",
       "      <th>0</th>\n",
       "      <td>FDA15</td>\n",
       "      <td>9.30</td>\n",
       "      <td>2157.711534</td>\n",
       "      <td>0.016047</td>\n",
       "      <td>2232.542597</td>\n",
       "      <td>249.8092</td>\n",
       "      <td>0.109117</td>\n",
       "      <td>0.109117</td>\n",
       "      <td>Medium</td>\n",
       "      <td>Tier 1</td>\n",
       "      <td>...</td>\n",
       "      <td>0</td>\n",
       "      <td>1</td>\n",
       "      <td>0</td>\n",
       "      <td>0</td>\n",
       "      <td>1</td>\n",
       "      <td>0</td>\n",
       "      <td>0</td>\n",
       "      <td>1</td>\n",
       "      <td>0</td>\n",
       "      <td>0</td>\n",
       "    </tr>\n",
       "    <tr>\n",
       "      <th>1</th>\n",
       "      <td>DRC01</td>\n",
       "      <td>5.92</td>\n",
       "      <td>2224.561170</td>\n",
       "      <td>0.019278</td>\n",
       "      <td>2006.511735</td>\n",
       "      <td>48.2692</td>\n",
       "      <td>0.108882</td>\n",
       "      <td>0.108882</td>\n",
       "      <td>Medium</td>\n",
       "      <td>Tier 3</td>\n",
       "      <td>...</td>\n",
       "      <td>0</td>\n",
       "      <td>1</td>\n",
       "      <td>0</td>\n",
       "      <td>0</td>\n",
       "      <td>0</td>\n",
       "      <td>1</td>\n",
       "      <td>0</td>\n",
       "      <td>0</td>\n",
       "      <td>0</td>\n",
       "      <td>1</td>\n",
       "    </tr>\n",
       "    <tr>\n",
       "      <th>2</th>\n",
       "      <td>FDN15</td>\n",
       "      <td>17.50</td>\n",
       "      <td>2157.711534</td>\n",
       "      <td>0.016760</td>\n",
       "      <td>2158.977911</td>\n",
       "      <td>141.6180</td>\n",
       "      <td>0.109117</td>\n",
       "      <td>0.109117</td>\n",
       "      <td>Medium</td>\n",
       "      <td>Tier 1</td>\n",
       "      <td>...</td>\n",
       "      <td>0</td>\n",
       "      <td>1</td>\n",
       "      <td>0</td>\n",
       "      <td>0</td>\n",
       "      <td>1</td>\n",
       "      <td>0</td>\n",
       "      <td>0</td>\n",
       "      <td>1</td>\n",
       "      <td>0</td>\n",
       "      <td>0</td>\n",
       "    </tr>\n",
       "    <tr>\n",
       "      <th>3</th>\n",
       "      <td>FDX07</td>\n",
       "      <td>19.20</td>\n",
       "      <td>2224.561170</td>\n",
       "      <td>0.066132</td>\n",
       "      <td>2289.009592</td>\n",
       "      <td>182.0950</td>\n",
       "      <td>0.065118</td>\n",
       "      <td>0.065118</td>\n",
       "      <td>Medium</td>\n",
       "      <td>Tier 3</td>\n",
       "      <td>...</td>\n",
       "      <td>0</td>\n",
       "      <td>1</td>\n",
       "      <td>0</td>\n",
       "      <td>1</td>\n",
       "      <td>0</td>\n",
       "      <td>0</td>\n",
       "      <td>0</td>\n",
       "      <td>0</td>\n",
       "      <td>0</td>\n",
       "      <td>1</td>\n",
       "    </tr>\n",
       "    <tr>\n",
       "      <th>4</th>\n",
       "      <td>NCD19</td>\n",
       "      <td>8.93</td>\n",
       "      <td>2157.711534</td>\n",
       "      <td>0.066132</td>\n",
       "      <td>2258.784300</td>\n",
       "      <td>53.8614</td>\n",
       "      <td>0.109351</td>\n",
       "      <td>0.109351</td>\n",
       "      <td>High</td>\n",
       "      <td>Tier 3</td>\n",
       "      <td>...</td>\n",
       "      <td>1</td>\n",
       "      <td>0</td>\n",
       "      <td>0</td>\n",
       "      <td>0</td>\n",
       "      <td>1</td>\n",
       "      <td>0</td>\n",
       "      <td>0</td>\n",
       "      <td>0</td>\n",
       "      <td>0</td>\n",
       "      <td>1</td>\n",
       "    </tr>\n",
       "  </tbody>\n",
       "</table>\n",
       "<p>5 rows × 22 columns</p>\n",
       "</div>"
      ],
      "text/plain": [
       "  Item_Identifier  Item_Weight  Item_Fat_Content  Item_Visibility  \\\n",
       "0           FDA15         9.30       2157.711534         0.016047   \n",
       "1           DRC01         5.92       2224.561170         0.019278   \n",
       "2           FDN15        17.50       2157.711534         0.016760   \n",
       "3           FDX07        19.20       2224.561170         0.066132   \n",
       "4           NCD19         8.93       2157.711534         0.066132   \n",
       "\n",
       "     Item_Type  Item_MRP  Outlet_Identifier  Outlet_Establishment_Year  \\\n",
       "0  2232.542597  249.8092           0.109117                   0.109117   \n",
       "1  2006.511735   48.2692           0.108882                   0.108882   \n",
       "2  2158.977911  141.6180           0.109117                   0.109117   \n",
       "3  2289.009592  182.0950           0.065118                   0.065118   \n",
       "4  2258.784300   53.8614           0.109351                   0.109351   \n",
       "\n",
       "  Outlet_Size Outlet_Location_Type   ...   High  Medium  Small  Grocery Store  \\\n",
       "0      Medium               Tier 1   ...      0       1      0              0   \n",
       "1      Medium               Tier 3   ...      0       1      0              0   \n",
       "2      Medium               Tier 1   ...      0       1      0              0   \n",
       "3      Medium               Tier 3   ...      0       1      0              1   \n",
       "4        High               Tier 3   ...      1       0      0              0   \n",
       "\n",
       "   Supermarket Type1  Supermarket Type2  Supermarket Type3  Tier 1  Tier 2  \\\n",
       "0                  1                  0                  0       1       0   \n",
       "1                  0                  1                  0       0       0   \n",
       "2                  1                  0                  0       1       0   \n",
       "3                  0                  0                  0       0       0   \n",
       "4                  1                  0                  0       0       0   \n",
       "\n",
       "   Tier 3  \n",
       "0       0  \n",
       "1       1  \n",
       "2       0  \n",
       "3       1  \n",
       "4       1  \n",
       "\n",
       "[5 rows x 22 columns]"
      ]
     },
     "execution_count": 20,
     "metadata": {},
     "output_type": "execute_result"
    }
   ],
   "source": [
    "train_big = pd.merge(train_big,olt,left_index=True ,right_index=True)\n",
    "test_big = pd.merge(test_big,oltt,left_index=True ,right_index=True)\n",
    "\n",
    "train_big.head()"
   ]
  },
  {
   "cell_type": "code",
   "execution_count": 21,
   "metadata": {
    "collapsed": false
   },
   "outputs": [],
   "source": [
    "train_big = train_big.drop(columns=['Item_Identifier','Outlet_Size','Outlet_Location_Type',\n",
    "                                   'Outlet_Type'])\n",
    "test_big = test_big.drop(columns=['Item_Identifier','Outlet_Size','Outlet_Location_Type',\n",
    "                                   'Outlet_Type'])"
   ]
  },
  {
   "cell_type": "code",
   "execution_count": 22,
   "metadata": {
    "collapsed": false
   },
   "outputs": [
    {
     "data": {
      "text/html": [
       "<div>\n",
       "<style scoped>\n",
       "    .dataframe tbody tr th:only-of-type {\n",
       "        vertical-align: middle;\n",
       "    }\n",
       "\n",
       "    .dataframe tbody tr th {\n",
       "        vertical-align: top;\n",
       "    }\n",
       "\n",
       "    .dataframe thead th {\n",
       "        text-align: right;\n",
       "    }\n",
       "</style>\n",
       "<table border=\"1\" class=\"dataframe\">\n",
       "  <thead>\n",
       "    <tr style=\"text-align: right;\">\n",
       "      <th></th>\n",
       "      <th>Item_Weight</th>\n",
       "      <th>Item_Fat_Content</th>\n",
       "      <th>Item_Visibility</th>\n",
       "      <th>Item_Type</th>\n",
       "      <th>Item_MRP</th>\n",
       "      <th>Outlet_Identifier</th>\n",
       "      <th>Outlet_Establishment_Year</th>\n",
       "      <th>High</th>\n",
       "      <th>Medium</th>\n",
       "      <th>Small</th>\n",
       "      <th>Grocery Store</th>\n",
       "      <th>Supermarket Type1</th>\n",
       "      <th>Supermarket Type2</th>\n",
       "      <th>Supermarket Type3</th>\n",
       "      <th>Tier 1</th>\n",
       "      <th>Tier 2</th>\n",
       "      <th>Tier 3</th>\n",
       "    </tr>\n",
       "  </thead>\n",
       "  <tbody>\n",
       "    <tr>\n",
       "      <th>0</th>\n",
       "      <td>20.750000</td>\n",
       "      <td>2157.711534</td>\n",
       "      <td>0.007565</td>\n",
       "      <td>2277.321739</td>\n",
       "      <td>107.8622</td>\n",
       "      <td>0.109117</td>\n",
       "      <td>0.109117</td>\n",
       "      <td>0</td>\n",
       "      <td>1</td>\n",
       "      <td>0</td>\n",
       "      <td>0</td>\n",
       "      <td>1</td>\n",
       "      <td>0</td>\n",
       "      <td>0</td>\n",
       "      <td>1</td>\n",
       "      <td>0</td>\n",
       "      <td>0</td>\n",
       "    </tr>\n",
       "    <tr>\n",
       "      <th>1</th>\n",
       "      <td>8.300000</td>\n",
       "      <td>2224.561170</td>\n",
       "      <td>0.038428</td>\n",
       "      <td>2232.542597</td>\n",
       "      <td>87.3198</td>\n",
       "      <td>0.108647</td>\n",
       "      <td>0.108647</td>\n",
       "      <td>0</td>\n",
       "      <td>1</td>\n",
       "      <td>0</td>\n",
       "      <td>0</td>\n",
       "      <td>1</td>\n",
       "      <td>0</td>\n",
       "      <td>0</td>\n",
       "      <td>0</td>\n",
       "      <td>1</td>\n",
       "      <td>0</td>\n",
       "    </tr>\n",
       "    <tr>\n",
       "      <th>2</th>\n",
       "      <td>14.600000</td>\n",
       "      <td>2157.711534</td>\n",
       "      <td>0.099575</td>\n",
       "      <td>1926.139702</td>\n",
       "      <td>241.7538</td>\n",
       "      <td>0.065118</td>\n",
       "      <td>0.065118</td>\n",
       "      <td>0</td>\n",
       "      <td>1</td>\n",
       "      <td>0</td>\n",
       "      <td>1</td>\n",
       "      <td>0</td>\n",
       "      <td>0</td>\n",
       "      <td>0</td>\n",
       "      <td>0</td>\n",
       "      <td>0</td>\n",
       "      <td>1</td>\n",
       "    </tr>\n",
       "    <tr>\n",
       "      <th>3</th>\n",
       "      <td>7.315000</td>\n",
       "      <td>2157.711534</td>\n",
       "      <td>0.015388</td>\n",
       "      <td>2277.321739</td>\n",
       "      <td>155.0340</td>\n",
       "      <td>0.108647</td>\n",
       "      <td>0.108647</td>\n",
       "      <td>0</td>\n",
       "      <td>1</td>\n",
       "      <td>0</td>\n",
       "      <td>0</td>\n",
       "      <td>1</td>\n",
       "      <td>0</td>\n",
       "      <td>0</td>\n",
       "      <td>0</td>\n",
       "      <td>1</td>\n",
       "      <td>0</td>\n",
       "    </tr>\n",
       "    <tr>\n",
       "      <th>4</th>\n",
       "      <td>12.857645</td>\n",
       "      <td>2224.561170</td>\n",
       "      <td>0.118599</td>\n",
       "      <td>2232.542597</td>\n",
       "      <td>234.2300</td>\n",
       "      <td>0.109703</td>\n",
       "      <td>0.171653</td>\n",
       "      <td>0</td>\n",
       "      <td>1</td>\n",
       "      <td>0</td>\n",
       "      <td>0</td>\n",
       "      <td>0</td>\n",
       "      <td>0</td>\n",
       "      <td>1</td>\n",
       "      <td>0</td>\n",
       "      <td>0</td>\n",
       "      <td>1</td>\n",
       "    </tr>\n",
       "  </tbody>\n",
       "</table>\n",
       "</div>"
      ],
      "text/plain": [
       "   Item_Weight  Item_Fat_Content  Item_Visibility    Item_Type  Item_MRP  \\\n",
       "0    20.750000       2157.711534         0.007565  2277.321739  107.8622   \n",
       "1     8.300000       2224.561170         0.038428  2232.542597   87.3198   \n",
       "2    14.600000       2157.711534         0.099575  1926.139702  241.7538   \n",
       "3     7.315000       2157.711534         0.015388  2277.321739  155.0340   \n",
       "4    12.857645       2224.561170         0.118599  2232.542597  234.2300   \n",
       "\n",
       "   Outlet_Identifier  Outlet_Establishment_Year  High  Medium  Small  \\\n",
       "0           0.109117                   0.109117     0       1      0   \n",
       "1           0.108647                   0.108647     0       1      0   \n",
       "2           0.065118                   0.065118     0       1      0   \n",
       "3           0.108647                   0.108647     0       1      0   \n",
       "4           0.109703                   0.171653     0       1      0   \n",
       "\n",
       "   Grocery Store  Supermarket Type1  Supermarket Type2  Supermarket Type3  \\\n",
       "0              0                  1                  0                  0   \n",
       "1              0                  1                  0                  0   \n",
       "2              1                  0                  0                  0   \n",
       "3              0                  1                  0                  0   \n",
       "4              0                  0                  0                  1   \n",
       "\n",
       "   Tier 1  Tier 2  Tier 3  \n",
       "0       1       0       0  \n",
       "1       0       1       0  \n",
       "2       0       0       1  \n",
       "3       0       1       0  \n",
       "4       0       0       1  "
      ]
     },
     "execution_count": 22,
     "metadata": {},
     "output_type": "execute_result"
    }
   ],
   "source": [
    "test_big.head()\n",
    "#train_big = train_big.drop(columns=['Item_Fat_Content','Low Fat_y','Regular_y','Low Fat_x','Regular_x'])"
   ]
  },
  {
   "cell_type": "code",
   "execution_count": 23,
   "metadata": {
    "collapsed": false
   },
   "outputs": [
    {
     "data": {
      "text/html": [
       "<div>\n",
       "<style scoped>\n",
       "    .dataframe tbody tr th:only-of-type {\n",
       "        vertical-align: middle;\n",
       "    }\n",
       "\n",
       "    .dataframe tbody tr th {\n",
       "        vertical-align: top;\n",
       "    }\n",
       "\n",
       "    .dataframe thead th {\n",
       "        text-align: right;\n",
       "    }\n",
       "</style>\n",
       "<table border=\"1\" class=\"dataframe\">\n",
       "  <thead>\n",
       "    <tr style=\"text-align: right;\">\n",
       "      <th></th>\n",
       "      <th>Item_Weight</th>\n",
       "      <th>Item_Fat_Content</th>\n",
       "      <th>Item_Visibility</th>\n",
       "      <th>Item_Type</th>\n",
       "      <th>Item_MRP</th>\n",
       "      <th>Outlet_Identifier</th>\n",
       "      <th>Outlet_Establishment_Year</th>\n",
       "      <th>High</th>\n",
       "      <th>Medium</th>\n",
       "      <th>Small</th>\n",
       "      <th>Grocery Store</th>\n",
       "      <th>Supermarket Type1</th>\n",
       "      <th>Supermarket Type2</th>\n",
       "      <th>Supermarket Type3</th>\n",
       "      <th>Tier 1</th>\n",
       "      <th>Tier 2</th>\n",
       "      <th>Tier 3</th>\n",
       "    </tr>\n",
       "  </thead>\n",
       "  <tbody>\n",
       "    <tr>\n",
       "      <th>0</th>\n",
       "      <td>9.30</td>\n",
       "      <td>2157.711534</td>\n",
       "      <td>0.016047</td>\n",
       "      <td>2232.542597</td>\n",
       "      <td>249.8092</td>\n",
       "      <td>0.109117</td>\n",
       "      <td>0.109117</td>\n",
       "      <td>0</td>\n",
       "      <td>1</td>\n",
       "      <td>0</td>\n",
       "      <td>0</td>\n",
       "      <td>1</td>\n",
       "      <td>0</td>\n",
       "      <td>0</td>\n",
       "      <td>1</td>\n",
       "      <td>0</td>\n",
       "      <td>0</td>\n",
       "    </tr>\n",
       "    <tr>\n",
       "      <th>1</th>\n",
       "      <td>5.92</td>\n",
       "      <td>2224.561170</td>\n",
       "      <td>0.019278</td>\n",
       "      <td>2006.511735</td>\n",
       "      <td>48.2692</td>\n",
       "      <td>0.108882</td>\n",
       "      <td>0.108882</td>\n",
       "      <td>0</td>\n",
       "      <td>1</td>\n",
       "      <td>0</td>\n",
       "      <td>0</td>\n",
       "      <td>0</td>\n",
       "      <td>1</td>\n",
       "      <td>0</td>\n",
       "      <td>0</td>\n",
       "      <td>0</td>\n",
       "      <td>1</td>\n",
       "    </tr>\n",
       "    <tr>\n",
       "      <th>2</th>\n",
       "      <td>17.50</td>\n",
       "      <td>2157.711534</td>\n",
       "      <td>0.016760</td>\n",
       "      <td>2158.977911</td>\n",
       "      <td>141.6180</td>\n",
       "      <td>0.109117</td>\n",
       "      <td>0.109117</td>\n",
       "      <td>0</td>\n",
       "      <td>1</td>\n",
       "      <td>0</td>\n",
       "      <td>0</td>\n",
       "      <td>1</td>\n",
       "      <td>0</td>\n",
       "      <td>0</td>\n",
       "      <td>1</td>\n",
       "      <td>0</td>\n",
       "      <td>0</td>\n",
       "    </tr>\n",
       "    <tr>\n",
       "      <th>3</th>\n",
       "      <td>19.20</td>\n",
       "      <td>2224.561170</td>\n",
       "      <td>0.066132</td>\n",
       "      <td>2289.009592</td>\n",
       "      <td>182.0950</td>\n",
       "      <td>0.065118</td>\n",
       "      <td>0.065118</td>\n",
       "      <td>0</td>\n",
       "      <td>1</td>\n",
       "      <td>0</td>\n",
       "      <td>1</td>\n",
       "      <td>0</td>\n",
       "      <td>0</td>\n",
       "      <td>0</td>\n",
       "      <td>0</td>\n",
       "      <td>0</td>\n",
       "      <td>1</td>\n",
       "    </tr>\n",
       "  </tbody>\n",
       "</table>\n",
       "</div>"
      ],
      "text/plain": [
       "   Item_Weight  Item_Fat_Content  Item_Visibility    Item_Type  Item_MRP  \\\n",
       "0         9.30       2157.711534         0.016047  2232.542597  249.8092   \n",
       "1         5.92       2224.561170         0.019278  2006.511735   48.2692   \n",
       "2        17.50       2157.711534         0.016760  2158.977911  141.6180   \n",
       "3        19.20       2224.561170         0.066132  2289.009592  182.0950   \n",
       "\n",
       "   Outlet_Identifier  Outlet_Establishment_Year  High  Medium  Small  \\\n",
       "0           0.109117                   0.109117     0       1      0   \n",
       "1           0.108882                   0.108882     0       1      0   \n",
       "2           0.109117                   0.109117     0       1      0   \n",
       "3           0.065118                   0.065118     0       1      0   \n",
       "\n",
       "   Grocery Store  Supermarket Type1  Supermarket Type2  Supermarket Type3  \\\n",
       "0              0                  1                  0                  0   \n",
       "1              0                  0                  1                  0   \n",
       "2              0                  1                  0                  0   \n",
       "3              1                  0                  0                  0   \n",
       "\n",
       "   Tier 1  Tier 2  Tier 3  \n",
       "0       1       0       0  \n",
       "1       0       0       1  \n",
       "2       1       0       0  \n",
       "3       0       0       1  "
      ]
     },
     "execution_count": 23,
     "metadata": {},
     "output_type": "execute_result"
    }
   ],
   "source": [
    "train_big_y = train_big['Item_Outlet_Sales'] \n",
    "train_big_x = train_big.drop(columns=['Item_Outlet_Sales'])\n",
    "train_big_x.head(4)"
   ]
  },
  {
   "cell_type": "code",
   "execution_count": 24,
   "metadata": {
    "collapsed": false
   },
   "outputs": [],
   "source": [
    "# from sklearn.preprocessing import StandardScaler\n",
    "# sc = StandardScaler()\n",
    "# train_big_x = sc.fit_transform(train_big_x)\n",
    "# test_big_x = sc.fit_transform(test_big_x)"
   ]
  },
  {
   "cell_type": "code",
   "execution_count": 25,
   "metadata": {
    "collapsed": true
   },
   "outputs": [],
   "source": [
    "from sklearn import cross_validation\n",
    "X_train,X_val,y_train,y_val = cross_validation.train_test_split(train_big_x,train_big_y,test_size=0.5,random_state=4)"
   ]
  },
  {
   "cell_type": "code",
   "execution_count": 26,
   "metadata": {
    "collapsed": true
   },
   "outputs": [],
   "source": [
    "from sklearn.tree import DecisionTreeRegressor\n",
    "dr = DecisionTreeRegressor(max_depth=15, min_samples_leaf=10)"
   ]
  },
  {
   "cell_type": "code",
   "execution_count": 27,
   "metadata": {
    "collapsed": false
   },
   "outputs": [],
   "source": [
    "from sklearn.ensemble import RandomForestRegressor\n",
    "rf = RandomForestRegressor(min_samples_leaf = 50,max_depth = 6 ,n_estimators = 1500)\n",
    "rf1 = RandomForestRegressor(min_samples_leaf = 100,max_depth = 5 ,n_estimators = 100)\n"
   ]
  },
  {
   "cell_type": "code",
   "execution_count": 28,
   "metadata": {
    "collapsed": false
   },
   "outputs": [],
   "source": [
    "from xgboost import XGBRegressor\n",
    "xgb = XGBRegressor(learning_rate = 0.02,max_depth = 5,n_estimators = 175)\n",
    "xgb1 = XGBRegressor(learning_rate = 0.06,max_depth = 4,n_estimators =59)"
   ]
  },
  {
   "cell_type": "code",
   "execution_count": 29,
   "metadata": {
    "collapsed": false
   },
   "outputs": [
    {
     "data": {
      "text/plain": [
       "XGBRegressor(base_score=0.5, booster='gbtree', colsample_bylevel=1,\n",
       "       colsample_bytree=1, gamma=0, learning_rate=0.06, max_delta_step=0,\n",
       "       max_depth=4, min_child_weight=1, missing=None, n_estimators=59,\n",
       "       n_jobs=1, nthread=None, objective='reg:linear', random_state=0,\n",
       "       reg_alpha=0, reg_lambda=1, scale_pos_weight=1, seed=None,\n",
       "       silent=True, subsample=1)"
      ]
     },
     "execution_count": 29,
     "metadata": {},
     "output_type": "execute_result"
    }
   ],
   "source": [
    "xgb.fit(X_train,y_train)\n",
    "xgb1.fit(X_train,y_train)\n",
    "#xgb.fit(X_train,y_train)"
   ]
  },
  {
   "cell_type": "code",
   "execution_count": null,
   "metadata": {
    "collapsed": false
   },
   "outputs": [],
   "source": [
    "from sklearn.grid_search import GridSearchCV\n",
    "parameters=[{'min_samples_leaf':[50,100,150,200],\n",
    "            'max_depth':[7,6,5,4,8],'n_estimators' : [100,500,1000,1500]}]\n",
    "grid_search = GridSearchCV(estimator=rf,param_grid=parameters,scoring='mean_squared_error',cv=6)\n",
    "grid_search = grid_search.fit(train_big_x,train_big_y)\n",
    "\n",
    "score = grid_search.best_score_\n",
    "print(score)\n",
    "param = grid_search.best_params_\n",
    "print(param)"
   ]
  },
  {
   "cell_type": "code",
   "execution_count": null,
   "metadata": {
    "collapsed": false
   },
   "outputs": [],
   "source": [
    "print((-score)**0.5)"
   ]
  },
  {
   "cell_type": "code",
   "execution_count": null,
   "metadata": {
    "collapsed": false
   },
   "outputs": [],
   "source": [
    "from sklearn.grid_search import GridSearchCV\n",
    "parameters=[{'learning_rate':[0.07,0.08,0.09],\n",
    "            'max_depth':[5,4,3,2],'n_estimators' : [100,250,300,350]}]\n",
    "grid_search = GridSearchCV(estimator=xgb,param_grid=parameters,scoring='mean_squared_error',cv=5)\n",
    "grid_search = grid_search.fit(train_big_x,train_big_y)\n",
    "\n",
    "score = grid_search.best_score_\n",
    "print(score)\n",
    "param = grid_search.best_params_\n",
    "print(param)"
   ]
  },
  {
   "cell_type": "code",
   "execution_count": null,
   "metadata": {
    "collapsed": false
   },
   "outputs": [],
   "source": [
    "print((-score)**0.5)"
   ]
  },
  {
   "cell_type": "code",
   "execution_count": 32,
   "metadata": {
    "collapsed": false
   },
   "outputs": [],
   "source": [
    "x_val_rf['a'] = pd.DataFrame(xgb.predict(X_val))\n",
    "x_val_xgb['b'] = pd.DataFrame(xgb1.predict(X_val))\n",
    "x_test_rf['a'] = pd.DataFrame(xgb.predict(test_big))\n",
    "x_test_xgb['b']= pd.DataFrame(xgb1.predict(test_big))"
   ]
  },
  {
   "cell_type": "code",
   "execution_count": 33,
   "metadata": {
    "collapsed": false
   },
   "outputs": [],
   "source": [
    "x_v = pd.concat([x_val_rf['a'],x_val_xgb['b']],axis = 1)\n",
    "x_t = pd.concat([x_test_rf['a'],x_test_xgb['b']],axis = 1)"
   ]
  },
  {
   "cell_type": "code",
   "execution_count": null,
   "metadata": {
    "collapsed": false
   },
   "outputs": [],
   "source": [
    "from sklearn.linear_model import Ridge\n",
    "lr =  Ridge(alpha=1.0)"
   ]
  },
  {
   "cell_type": "code",
   "execution_count": 36,
   "metadata": {
    "collapsed": false
   },
   "outputs": [
    {
     "data": {
      "text/plain": [
       "0.60910750854668849"
      ]
     },
     "execution_count": 36,
     "metadata": {},
     "output_type": "execute_result"
    }
   ],
   "source": [
    "rf.fit(x_v,y_val)\n",
    "rf.score(x_v,y_val)"
   ]
  },
  {
   "cell_type": "code",
   "execution_count": null,
   "metadata": {
    "collapsed": true
   },
   "outputs": [],
   "source": [
    "x_t"
   ]
  },
  {
   "cell_type": "code",
   "execution_count": null,
   "metadata": {
    "collapsed": false
   },
   "outputs": [],
   "source": [
    "from sklearn.grid_search import GridSearchCV\n",
    "parameters=[{'min_samples_leaf':[50,100,300],\n",
    "            'max_depth':[7,6,5,8],'n_estimators' : [100,500,1000]}]\n",
    "grid_search = GridSearchCV(estimator=rf,param_grid=parameters,scoring='mean_squared_error',cv=5)\n",
    "grid_search = grid_search.fit(x_v,y_val)\n",
    "\n",
    "score = grid_search.best_score_\n",
    "print(score)\n",
    "param = grid_search.best_params_\n",
    "print(param)"
   ]
  },
  {
   "cell_type": "code",
   "execution_count": null,
   "metadata": {
    "collapsed": false
   },
   "outputs": [],
   "source": [
    "print((-score)**0.5)"
   ]
  },
  {
   "cell_type": "code",
   "execution_count": null,
   "metadata": {
    "collapsed": false
   },
   "outputs": [],
   "source": [
    "from sklearn.cross_validation import cross_val_score\n",
    "overall = cross_val_score(xgb,train_big_x,train_big_y,cv=15, scoring = 'mean_squared_error')\n",
    "print('----')\n",
    "rmse = -(overall.mean())\n",
    "print(rmse**0.5)\n",
    "print(overall.std())"
   ]
  },
  {
   "cell_type": "code",
   "execution_count": null,
   "metadata": {
    "collapsed": false
   },
   "outputs": [],
   "source": [
    "train_big.head()"
   ]
  },
  {
   "cell_type": "code",
   "execution_count": null,
   "metadata": {
    "collapsed": false
   },
   "outputs": [],
   "source": [
    "predic = rf.predict(test_big_x)"
   ]
  },
  {
   "cell_type": "code",
   "execution_count": null,
   "metadata": {
    "collapsed": false
   },
   "outputs": [],
   "source": [
    "from sklearn.metrics import mean_squared_error\n",
    "mse = mean_squared_error(y_test,predic)\n",
    "print(mse**0.5)"
   ]
  },
  {
   "cell_type": "code",
   "execution_count": null,
   "metadata": {
    "collapsed": false
   },
   "outputs": [],
   "source": [
    "from sklearn.cross_validation import cross_val_score\n",
    "overall = cross_val_score(xgb,train_big_x,train_big_y,cv=5, scoring = 'mean_squared_error')\n",
    "print('----')\n",
    "rmse = -(overall.mean())\n",
    "print(rmse**0.5)"
   ]
  },
  {
   "cell_type": "code",
   "execution_count": 37,
   "metadata": {
    "collapsed": false
   },
   "outputs": [],
   "source": [
    "pre = rf.predict(x_t)\n",
    "ppa = pd.DataFrame(pre)\n",
    "\n",
    "from pandas import ExcelWriter\n",
    "\n",
    "writer = ExcelWriter('bigmart_xxxrf.xlsx')\n",
    "ppa.to_excel(writer)\n",
    "writer.save()"
   ]
  },
  {
   "cell_type": "code",
   "execution_count": null,
   "metadata": {
    "collapsed": false
   },
   "outputs": [],
   "source": []
  },
  {
   "cell_type": "code",
   "execution_count": null,
   "metadata": {
    "collapsed": true
   },
   "outputs": [],
   "source": []
  },
  {
   "cell_type": "code",
   "execution_count": null,
   "metadata": {
    "collapsed": false
   },
   "outputs": [],
   "source": []
  },
  {
   "cell_type": "code",
   "execution_count": null,
   "metadata": {
    "collapsed": true
   },
   "outputs": [],
   "source": []
  },
  {
   "cell_type": "code",
   "execution_count": null,
   "metadata": {
    "collapsed": false
   },
   "outputs": [],
   "source": []
  },
  {
   "cell_type": "code",
   "execution_count": null,
   "metadata": {
    "collapsed": false
   },
   "outputs": [],
   "source": [
    "from sklearn import cross_validation\n",
    "X_train,X_test,y_train,y_test = cross_validation.train_test_split(train_big_x,train_big_y,test_size=0.30)\n",
    "from xgboost import XGBRegressor\n",
    "xgb = XGBRegressor(eta = 0.05,\n",
    " max_depth = 10, \n",
    " nround=50, \n",
    " seed = 1,\n",
    " #eval_metric = \"merror\",\n",
    " objective = \"reg:linear\",\n",
    " #num_class = 12,\n",
    " nthread = 3)\n",
    "from sklearn.ensemble import RandomForestRegressor\n",
    "rr = RandomForestRegressor(n_estimators=200,max_depth=6,min_samples_leaf=100,n_jobs=4)\n",
    "from sklearn.tree import DecisionTreeRegressor\n",
    "dr = DecisionTreeRegressor()\n",
    "\n",
    "#rr.fit(train_big_x['Item_MRP'],train_big_y['Item_Outlet_Sales'])\n",
    "\n",
    "#pp =rr.predict(test_big_x)\n",
    "from sklearn.cross_validation import cross_val_score\n",
    "overall = cross_val_score(rr,train_big_x['Item_MRP'],train_big_y,cv=5, scoring = 'mean_squared_error')\n",
    "print('----')\n",
    "rmse = -(overall.mean())\n",
    "print(rmse**0.5)\n",
    "\n",
    "\n",
    "#from sklearn.metrics import mean_squared_error\n",
    "#mse = mean_squared_error(y_test,pre)\n",
    "#print('Rmse')\n",
    "#print(mse**0.5)\n",
    "#print(rr.feature_importances_)\n",
    "#plt.plot(rr.feature_importances_)\n",
    "#plt.xticks(np.arange(train_big_x.shape[1]),train_big_x.columns.tolist(),rotation = 90)\n",
    "\n",
    "#from pandas import ExcelWriter\n",
    "\n",
    "#writer = ExcelWriter('bigmart_lll.xlsx')\n",
    "#pre.to_excel(writer)\n",
    "#writer.save()"
   ]
  },
  {
   "cell_type": "code",
   "execution_count": null,
   "metadata": {
    "collapsed": false
   },
   "outputs": [],
   "source": [
    "#pa = pd.DataFrame(pp)\n",
    "#pa\n",
    "overall"
   ]
  },
  {
   "cell_type": "code",
   "execution_count": null,
   "metadata": {
    "collapsed": false
   },
   "outputs": [],
   "source": [
    "ppa = pd.DataFrame(pa)\n",
    "\n",
    "from pandas import ExcelWriter\n",
    "\n",
    "writer = ExcelWriter('bigmart_nne.xlsx')\n",
    "ppa.to_excel(writer)\n",
    "writer.save()"
   ]
  },
  {
   "cell_type": "code",
   "execution_count": null,
   "metadata": {
    "collapsed": false
   },
   "outputs": [],
   "source": []
  },
  {
   "cell_type": "code",
   "execution_count": null,
   "metadata": {
    "collapsed": false
   },
   "outputs": [],
   "source": []
  },
  {
   "cell_type": "code",
   "execution_count": null,
   "metadata": {
    "collapsed": false
   },
   "outputs": [],
   "source": []
  },
  {
   "cell_type": "code",
   "execution_count": null,
   "metadata": {
    "collapsed": false
   },
   "outputs": [],
   "source": []
  },
  {
   "cell_type": "code",
   "execution_count": null,
   "metadata": {
    "collapsed": false
   },
   "outputs": [],
   "source": []
  },
  {
   "cell_type": "code",
   "execution_count": null,
   "metadata": {
    "collapsed": false
   },
   "outputs": [],
   "source": []
  },
  {
   "cell_type": "code",
   "execution_count": null,
   "metadata": {
    "collapsed": false
   },
   "outputs": [],
   "source": []
  },
  {
   "cell_type": "raw",
   "metadata": {},
   "source": []
  },
  {
   "cell_type": "code",
   "execution_count": null,
   "metadata": {
    "collapsed": false
   },
   "outputs": [],
   "source": [
    "test_big = pd.merge(test_big,oz,left_index=True ,right_index=True)\n",
    "test_big.head(1)\n",
    "\n",
    "test_big_x = test_big.drop(columns=['Outlet_Size_x','Outlet_Size_y','Item_Identifier'])\n",
    "from sklearn.preprocessing import StandardScaler\n",
    "sc = StandardScaler()\n",
    "test_big_x = sc.fit_transform(test_big_x)\n",
    "test_big_x"
   ]
  },
  {
   "cell_type": "code",
   "execution_count": null,
   "metadata": {
    "collapsed": false
   },
   "outputs": [],
   "source": [
    "from xgboost import XGBRegressor\n",
    "from sklearn.ensemble import RandomForestRegressor\n",
    "from sklearn.tree import DecisionTreeRegressor\n",
    "xg = XGBRegressor()\n",
    "rr = RandomForestRegressor(n_estimators=450,max_depth=7,min_samples_leaf=100,n_jobs=4)\n",
    "dr = DecisionTreeRegressor(max_depth=10.6,min_samples_leaf=0.01)\n",
    "dr.fit(train_big_x, train_big_y)"
   ]
  },
  {
   "cell_type": "code",
   "execution_count": null,
   "metadata": {
    "collapsed": false
   },
   "outputs": [],
   "source": [
    "pre = dr.predict(test_big_x)\n",
    "#y_t = np.asarray(y_test)\n",
    "pre = pd.DataFrame(pre,columns=['Item_Outlet_Sales'])\n",
    "pre"
   ]
  },
  {
   "cell_type": "code",
   "execution_count": null,
   "metadata": {
    "collapsed": false
   },
   "outputs": [],
   "source": [
    "from pandas import ExcelWriter\n",
    "\n",
    "writer = ExcelWriter('bigmart_tr10.xlsx')\n",
    "pre.to_excel(writer)\n",
    "writer.save()"
   ]
  },
  {
   "cell_type": "code",
   "execution_count": null,
   "metadata": {
    "collapsed": false
   },
   "outputs": [],
   "source": [
    "score = r2_score(y_test,pre)"
   ]
  },
  {
   "cell_type": "code",
   "execution_count": null,
   "metadata": {
    "collapsed": false
   },
   "outputs": [],
   "source": [
    "score"
   ]
  },
  {
   "cell_type": "code",
   "execution_count": null,
   "metadata": {
    "collapsed": true
   },
   "outputs": [],
   "source": []
  },
  {
   "cell_type": "code",
   "execution_count": null,
   "metadata": {
    "collapsed": false
   },
   "outputs": [],
   "source": []
  },
  {
   "cell_type": "code",
   "execution_count": null,
   "metadata": {
    "collapsed": false
   },
   "outputs": [],
   "source": []
  },
  {
   "cell_type": "code",
   "execution_count": null,
   "metadata": {
    "collapsed": false
   },
   "outputs": [],
   "source": []
  },
  {
   "cell_type": "code",
   "execution_count": null,
   "metadata": {
    "collapsed": false
   },
   "outputs": [],
   "source": [
    "\n"
   ]
  },
  {
   "cell_type": "code",
   "execution_count": null,
   "metadata": {
    "collapsed": false
   },
   "outputs": [],
   "source": [
    "\n"
   ]
  },
  {
   "cell_type": "code",
   "execution_count": null,
   "metadata": {
    "collapsed": true
   },
   "outputs": [],
   "source": []
  },
  {
   "cell_type": "code",
   "execution_count": null,
   "metadata": {
    "collapsed": false
   },
   "outputs": [],
   "source": [
    "test_big_x"
   ]
  },
  {
   "cell_type": "code",
   "execution_count": null,
   "metadata": {
    "collapsed": false
   },
   "outputs": [],
   "source": [
    "rr.fit(train_big_x,train_big_y)\n",
    "train_big_x"
   ]
  },
  {
   "cell_type": "code",
   "execution_count": null,
   "metadata": {
    "collapsed": false
   },
   "outputs": [],
   "source": [
    "pre=rr.predict(test_big_x)"
   ]
  },
  {
   "cell_type": "code",
   "execution_count": null,
   "metadata": {
    "collapsed": true
   },
   "outputs": [],
   "source": []
  },
  {
   "cell_type": "code",
   "execution_count": null,
   "metadata": {
    "collapsed": true
   },
   "outputs": [],
   "source": []
  },
  {
   "cell_type": "code",
   "execution_count": null,
   "metadata": {
    "collapsed": true
   },
   "outputs": [],
   "source": []
  },
  {
   "cell_type": "code",
   "execution_count": null,
   "metadata": {
    "collapsed": true
   },
   "outputs": [],
   "source": []
  }
 ],
 "metadata": {
  "anaconda-cloud": {},
  "kernelspec": {
   "display_name": "Python [conda env:Anaconda3]",
   "language": "python",
   "name": "conda-env-Anaconda3-py"
  },
  "language_info": {
   "codemirror_mode": {
    "name": "ipython",
    "version": 3
   },
   "file_extension": ".py",
   "mimetype": "text/x-python",
   "name": "python",
   "nbconvert_exporter": "python",
   "pygments_lexer": "ipython3",
   "version": "3.5.5"
  }
 },
 "nbformat": 4,
 "nbformat_minor": 1
}
